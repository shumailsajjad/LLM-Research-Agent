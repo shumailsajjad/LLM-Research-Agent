{
 "cells": [
  {
   "cell_type": "markdown",
   "id": "dd0c9fb5-7f88-43fb-8be5-e7b688b0b3f8",
   "metadata": {},
   "source": [
    "# Building a Simple ReAct Agent from Scratch"
   ]
  },
  {
   "cell_type": "code",
   "execution_count": 20,
   "id": "8dba2e5d-e429-419c-9569-53fb23c5281d",
   "metadata": {},
   "outputs": [
    {
     "data": {
      "text/plain": [
       "True"
      ]
     },
     "execution_count": 20,
     "metadata": {},
     "output_type": "execute_result"
    }
   ],
   "source": [
    "# loading the OpenAI API key\n",
    "from dotenv import load_dotenv, find_dotenv\n",
    "load_dotenv(find_dotenv(), override=True)"
   ]
  },
  {
   "cell_type": "code",
   "execution_count": 21,
   "id": "a8315a22-7660-42bd-af6a-0e780ce2ed8f",
   "metadata": {},
   "outputs": [],
   "source": [
    "# importing the necessary libraries\n",
    "import openai\n",
    "import re\n",
    "import httpx\n",
    "import os"
   ]
  },
  {
   "cell_type": "code",
   "execution_count": 22,
   "id": "40f42965-d2a6-4d07-92fe-b4c34a2beb47",
   "metadata": {},
   "outputs": [],
   "source": [
    "from openai import OpenAI\n",
    "client = OpenAI()\n",
    "\n",
    "MODEL = 'gpt-4o-mini' \n",
    "prompt = 'Write something short but funny.'\n",
    "\n",
    "chat_completion = client.chat.completions.create(\n",
    "    model=MODEL,\n",
    "    messages=[{'role': 'user', 'content': prompt}]\n",
    ")"
   ]
  },
  {
   "cell_type": "code",
   "execution_count": 23,
   "id": "83739cf5-aa44-423b-9e2f-a0d26862c126",
   "metadata": {},
   "outputs": [
    {
     "data": {
      "text/plain": [
       "'Why did the scarecrow win an award? Because he was outstanding in his field!'"
      ]
     },
     "execution_count": 23,
     "metadata": {},
     "output_type": "execute_result"
    }
   ],
   "source": [
    "chat_completion.choices[0].message.content"
   ]
  },
  {
   "cell_type": "markdown",
   "id": "31b41d49-d075-40d0-9a50-9ddb359830e9",
   "metadata": {},
   "source": [
    "## Creating the Agent Class"
   ]
  },
  {
   "cell_type": "code",
   "execution_count": 24,
   "id": "9bc3421f-56fd-4d80-98bb-f753aa8042f7",
   "metadata": {},
   "outputs": [],
   "source": [
    "class Agent:\n",
    "    def __init__(self, system=''): \n",
    "        self.system = system \n",
    "        self.messages = []\n",
    "        \n",
    "        if self.system:\n",
    "            self.messages.append({'role': 'system', 'content': system})\n",
    "\n",
    "    def __call__(self, prompt):\n",
    "        self.messages.append({'role': 'user', 'content': prompt})\n",
    "        result = self.execute()\n",
    "        self.messages.append({'role': 'assistant', 'content': result})\n",
    "        return result\n",
    "\n",
    "    def execute(self, model='gpt-4o-mini', temperature=0):\n",
    "        completion = client.chat.completions.create(\n",
    "                        model=model, \n",
    "                        temperature=temperature,\n",
    "                        messages=self.messages)\n",
    "        \n",
    "        return completion.choices[0].message.content"
   ]
  },
  {
   "cell_type": "markdown",
   "id": "e958edac-bfc5-476f-bbc9-dad93f55859d",
   "metadata": {},
   "source": [
    "## Creating the ReAct Prompt"
   ]
  },
  {
   "cell_type": "code",
   "execution_count": 25,
   "id": "cadfac89-72c4-41e6-a3ee-051edb86c71d",
   "metadata": {},
   "outputs": [],
   "source": [
    "prompt = '''\n",
    "You run in a loop of Thought, Action, PAUSE, Observation.\n",
    "At the end of the loop you output an Answer\n",
    "Use Thought to describe your thoughts about the question you have been asked.\n",
    "Use Action to run one of the actions available to you - then return PAUSE.\n",
    "Observation will be the result of running those actions.\n",
    "\n",
    "Your available actions are:\n",
    "\n",
    "calculate:\n",
    "e.g. calculate: 4 * 7 / 3\n",
    "Runs a calculation and returns the number - uses Python so be sure to use floating point syntax if necessary\n",
    "\n",
    "get_cost:\n",
    "e.g. get_cost: book\n",
    "returns the cost of a book\n",
    "\n",
    "wikipedia:\n",
    "e.g. wikipedia: LangChain\n",
    "Returns a summary from searching Wikipedia\n",
    "\n",
    "Always look things up on Wikipedia if you have the opportunity to do so.\n",
    "\n",
    "Example session #1:\n",
    "\n",
    "Question: How much does a pen cost?\n",
    "Thought: I should look the pen cost using get_cost\n",
    "Action: get_cost: pen\n",
    "PAUSE\n",
    "\n",
    "You will be called again with this:\n",
    "\n",
    "Observation: A pen costs $5\n",
    "\n",
    "You then output:\n",
    "\n",
    "Answer: A pen costs $5\n",
    "\n",
    "\n",
    "Example session #2\n",
    "\n",
    "Question: What is the capital of France?\n",
    "Thought: I should look up France on Wikipedia\n",
    "Action: wikipedia: France\n",
    "PAUSE\n",
    "\n",
    "You will be called again with this:\n",
    "\n",
    "Observation: France is a country. The capital is Paris.\n",
    "\n",
    "You then output:\n",
    "\n",
    "Answer: The capital of France is Paris\n",
    "'''.strip()\n"
   ]
  },
  {
   "cell_type": "markdown",
   "id": "e4127352-4484-454c-92f7-364c160ed531",
   "metadata": {},
   "source": [
    "## Creating the Tools"
   ]
  },
  {
   "cell_type": "code",
   "execution_count": 26,
   "id": "2ad17dbf-f0f4-4c6d-a453-eb0cfb1527af",
   "metadata": {},
   "outputs": [],
   "source": [
    "# 1. the calculate() function takes in a string, evaluates that string, and returns the result\n",
    "def calculate(what):\n",
    "    return eval(what)\n",
    "\n",
    "# 2. the get_cost() function returns the cost for a pen, a book, and a stapler\n",
    "def get_cost(thing):\n",
    "    if thing in 'pen': \n",
    "        return('A pen costs $5')\n",
    "    elif thing in 'book':\n",
    "        return('A book costs $20')\n",
    "    elif thing in 'stapler':\n",
    "        return('A stapler costs $10')\n",
    "    else:\n",
    "        return('A random thing for writing costs $12.')\n",
    "\n",
    "# 3. the wikipedia() function uses the Wikipedia API to search for a specific query on Wikipedia\n",
    "def wikipedia(q):\n",
    "    response = httpx.get('https://en.wikipedia.org/w/api.php', params={\n",
    "        'action': 'query',\n",
    "        'list': 'search',\n",
    "        'srsearch': q,\n",
    "        'format': 'json'\n",
    "    })\n",
    "    results = response.json().get('query').get('search', [])\n",
    "    \n",
    "    if not results:\n",
    "        return None\n",
    "    return results[0]['snippet']"
   ]
  },
  {
   "cell_type": "code",
   "execution_count": 27,
   "id": "9f5a6bfd-e2bb-429b-a4a7-6fea558fdb61",
   "metadata": {},
   "outputs": [
    {
     "data": {
      "text/plain": [
       "'<span class=\"searchmatch\">LangChain</span> is a framework designed to simplify the creation of applications using large language models (LLMs). As a language model integration framework'"
      ]
     },
     "execution_count": 27,
     "metadata": {},
     "output_type": "execute_result"
    }
   ],
   "source": [
    "wikipedia('langchain')"
   ]
  },
  {
   "cell_type": "code",
   "execution_count": 28,
   "id": "dcd1d562-ca81-400e-bda8-ca46327cfceb",
   "metadata": {},
   "outputs": [],
   "source": [
    "# dictionary that maps the function names to the functions themselves\n",
    "known_actions = {\n",
    "    'calculate': calculate,\n",
    "    'get_cost': get_cost,\n",
    "    'wikipedia': wikipedia\n",
    "}"
   ]
  },
  {
   "cell_type": "markdown",
   "id": "81a806ce-3945-4477-8245-35915766624f",
   "metadata": {},
   "source": [
    "## Testing the Agent"
   ]
  },
  {
   "cell_type": "code",
   "execution_count": 29,
   "id": "ba003bb2-e8ef-4666-a4d2-49bf43c62206",
   "metadata": {},
   "outputs": [],
   "source": [
    "my_agent = Agent(prompt)"
   ]
  },
  {
   "cell_type": "code",
   "execution_count": 30,
   "id": "c5c7a0ce-3f68-4b3c-aae0-565a79839703",
   "metadata": {},
   "outputs": [
    {
     "name": "stdout",
     "output_type": "stream",
     "text": [
      "Thought: I should look up the cost of a pen using the get_cost action.  \n",
      "Action: get_cost: pen  \n",
      "PAUSE\n"
     ]
    }
   ],
   "source": [
    "# calling the agent with this initial question\n",
    "result = my_agent('How much does a pen cost?')\n",
    "print(result)"
   ]
  },
  {
   "cell_type": "code",
   "execution_count": 31,
   "id": "c700ef6d-ab03-439f-bb7b-6a0c0b7f7f64",
   "metadata": {},
   "outputs": [],
   "source": [
    "# creating the next prompt that will be used as an observation and passed to the language model\n",
    "next_prompt = f\"Observation: {get_cost('pen')}\""
   ]
  },
  {
   "cell_type": "code",
   "execution_count": 32,
   "id": "612bddac-d02b-487c-8707-2e49ee26c9fc",
   "metadata": {},
   "outputs": [
    {
     "data": {
      "text/plain": [
       "'Answer: A pen costs $5.'"
      ]
     },
     "execution_count": 32,
     "metadata": {},
     "output_type": "execute_result"
    }
   ],
   "source": [
    "# calling the agent with that next prompt\n",
    "my_agent(next_prompt)"
   ]
  },
  {
   "cell_type": "code",
   "execution_count": 33,
   "id": "1e3c9d60-34c4-41e9-9cb3-20585b5debc1",
   "metadata": {},
   "outputs": [
    {
     "data": {
      "text/plain": [
       "[{'role': 'system',\n",
       "  'content': 'You run in a loop of Thought, Action, PAUSE, Observation.\\nAt the end of the loop you output an Answer\\nUse Thought to describe your thoughts about the question you have been asked.\\nUse Action to run one of the actions available to you - then return PAUSE.\\nObservation will be the result of running those actions.\\n\\nYour available actions are:\\n\\ncalculate:\\ne.g. calculate: 4 * 7 / 3\\nRuns a calculation and returns the number - uses Python so be sure to use floating point syntax if necessary\\n\\nget_cost:\\ne.g. get_cost: book\\nreturns the cost of a book\\n\\nwikipedia:\\ne.g. wikipedia: LangChain\\nReturns a summary from searching Wikipedia\\n\\nAlways look things up on Wikipedia if you have the opportunity to do so.\\n\\nExample session #1:\\n\\nQuestion: How much does a pen cost?\\nThought: I should look the pen cost using get_cost\\nAction: get_cost: pen\\nPAUSE\\n\\nYou will be called again with this:\\n\\nObservation: A pen costs $5\\n\\nYou then output:\\n\\nAnswer: A pen costs $5\\n\\n\\nExample session #2\\n\\nQuestion: What is the capital of France?\\nThought: I should look up France on Wikipedia\\nAction: wikipedia: France\\nPAUSE\\n\\nYou will be called again with this:\\n\\nObservation: France is a country. The capital is Paris.\\n\\nYou then output:\\n\\nAnswer: The capital of France is Paris'},\n",
       " {'role': 'user', 'content': 'How much does a pen cost?'},\n",
       " {'role': 'assistant',\n",
       "  'content': 'Thought: I should look up the cost of a pen using the get_cost action.  \\nAction: get_cost: pen  \\nPAUSE'},\n",
       " {'role': 'user', 'content': 'Observation: A pen costs $5'},\n",
       " {'role': 'assistant', 'content': 'Answer: A pen costs $5.'}]"
      ]
     },
     "execution_count": 33,
     "metadata": {},
     "output_type": "execute_result"
    }
   ],
   "source": [
    "my_agent.messages"
   ]
  },
  {
   "cell_type": "code",
   "execution_count": 34,
   "id": "57e41bda-a2b0-499a-bc0e-8ec082676302",
   "metadata": {},
   "outputs": [],
   "source": [
    "abot = Agent(prompt)"
   ]
  },
  {
   "cell_type": "code",
   "execution_count": 36,
   "id": "f3129ab7-f5c6-4c19-8fb5-4229f536950c",
   "metadata": {},
   "outputs": [
    {
     "data": {
      "text/plain": [
       "\"Thought: I need to find the cost of both a pen and a book to calculate the total cost. I'll start by getting the cost of a pen first.\\n\\nAction: get_cost: pen\\nPAUSE\""
      ]
     },
     "execution_count": 36,
     "metadata": {},
     "output_type": "execute_result"
    }
   ],
   "source": [
    "question = '''I want to buy a pen and a book. \n",
    "How much do they cost in total?'''\n",
    "\n",
    "abot(question)"
   ]
  },
  {
   "cell_type": "code",
   "execution_count": 37,
   "id": "636acd8b-8aa1-40da-a892-f7b284025b87",
   "metadata": {},
   "outputs": [
    {
     "name": "stdout",
     "output_type": "stream",
     "text": [
      "Observation: A pen costs $5\n"
     ]
    }
   ],
   "source": [
    "# executing the action and creating the next prompt. \n",
    "next_prompt = f'Observation: {get_cost(\"pen\")}'\n",
    "print(next_prompt)\n"
   ]
  },
  {
   "cell_type": "code",
   "execution_count": 38,
   "id": "29ed8398-681f-45f8-91a4-99fc92dddef0",
   "metadata": {},
   "outputs": [
    {
     "data": {
      "text/plain": [
       "'Thought: Now that I have the cost of the pen, I need to find the cost of the book to calculate the total cost.\\n\\nAction: get_cost: book\\nPAUSE'"
      ]
     },
     "execution_count": 38,
     "metadata": {},
     "output_type": "execute_result"
    }
   ],
   "source": [
    "abot(next_prompt)"
   ]
  },
  {
   "cell_type": "code",
   "execution_count": 41,
   "id": "4a127215-e444-4d70-b048-53c107edce15",
   "metadata": {},
   "outputs": [
    {
     "name": "stdout",
     "output_type": "stream",
     "text": [
      "Observation: A book costs $20\n"
     ]
    }
   ],
   "source": [
    "next_prompt = f'Observation: {get_cost(\"book\")}'\n",
    "print(next_prompt)"
   ]
  },
  {
   "cell_type": "code",
   "execution_count": 42,
   "id": "c400564f-f49f-46e4-bfa7-bcac646d15ec",
   "metadata": {},
   "outputs": [
    {
     "data": {
      "text/plain": [
       "'Answer: The total cost of a pen and a book is $25.'"
      ]
     },
     "execution_count": 42,
     "metadata": {},
     "output_type": "execute_result"
    }
   ],
   "source": [
    "abot(next_prompt)"
   ]
  },
  {
   "cell_type": "code",
   "execution_count": 45,
   "id": "91b8d477-b87d-4ed2-9ce7-6484f8217e7e",
   "metadata": {},
   "outputs": [],
   "source": [
    "abot = Agent(prompt)"
   ]
  },
  {
   "cell_type": "code",
   "execution_count": 46,
   "id": "15bf1ab3-999b-4bfd-894a-c3927fa1582c",
   "metadata": {},
   "outputs": [
    {
     "data": {
      "text/plain": [
       "'Thought: I should look up information about the 2024 United Kingdom elections on Wikipedia to get the latest details.  \\nAction: wikipedia: 2024 United Kingdom elections  \\nPAUSE'"
      ]
     },
     "execution_count": 46,
     "metadata": {},
     "output_type": "execute_result"
    }
   ],
   "source": [
    "query = '2024 United Kingdom elections'\n",
    "abot(query)"
   ]
  },
  {
   "cell_type": "code",
   "execution_count": 47,
   "id": "0552df22-a55b-44f9-8b31-7e9f9cfd1c0f",
   "metadata": {},
   "outputs": [
    {
     "name": "stdout",
     "output_type": "stream",
     "text": [
      "Observation: The <span class=\"searchmatch\">2024</span> <span class=\"searchmatch\">United</span> <span class=\"searchmatch\">Kingdom</span> general <span class=\"searchmatch\">election</span> was held on Thursday, 4 July <span class=\"searchmatch\">2024</span>, to elect 650 members of Parliament to the House of Commons, the lower house\n"
     ]
    }
   ],
   "source": [
    "# calling the wikipedia() function and creating the next prompt\n",
    "next_prompt = f'Observation: {wikipedia(query)}'\n",
    "print(next_prompt)"
   ]
  },
  {
   "cell_type": "code",
   "execution_count": 48,
   "id": "5572f42e-b654-44d6-b1d6-c7ac449b6145",
   "metadata": {},
   "outputs": [
    {
     "data": {
      "text/plain": [
       "'Answer: The 2024 United Kingdom general election was held on Thursday, 4 July 2024, to elect 650 members of Parliament to the House of Commons.'"
      ]
     },
     "execution_count": 48,
     "metadata": {},
     "output_type": "execute_result"
    }
   ],
   "source": [
    "# calling the agent with the new prompt, which in turn is giving the final answer\n",
    "abot(next_prompt)"
   ]
  },
  {
   "cell_type": "code",
   "execution_count": 49,
   "id": "7c14e174-2e11-433a-9414-c243ab80b437",
   "metadata": {},
   "outputs": [
    {
     "data": {
      "text/plain": [
       "[{'role': 'system',\n",
       "  'content': 'You run in a loop of Thought, Action, PAUSE, Observation.\\nAt the end of the loop you output an Answer\\nUse Thought to describe your thoughts about the question you have been asked.\\nUse Action to run one of the actions available to you - then return PAUSE.\\nObservation will be the result of running those actions.\\n\\nYour available actions are:\\n\\ncalculate:\\ne.g. calculate: 4 * 7 / 3\\nRuns a calculation and returns the number - uses Python so be sure to use floating point syntax if necessary\\n\\nget_cost:\\ne.g. get_cost: book\\nreturns the cost of a book\\n\\nwikipedia:\\ne.g. wikipedia: LangChain\\nReturns a summary from searching Wikipedia\\n\\nAlways look things up on Wikipedia if you have the opportunity to do so.\\n\\nExample session #1:\\n\\nQuestion: How much does a pen cost?\\nThought: I should look the pen cost using get_cost\\nAction: get_cost: pen\\nPAUSE\\n\\nYou will be called again with this:\\n\\nObservation: A pen costs $5\\n\\nYou then output:\\n\\nAnswer: A pen costs $5\\n\\n\\nExample session #2\\n\\nQuestion: What is the capital of France?\\nThought: I should look up France on Wikipedia\\nAction: wikipedia: France\\nPAUSE\\n\\nYou will be called again with this:\\n\\nObservation: France is a country. The capital is Paris.\\n\\nYou then output:\\n\\nAnswer: The capital of France is Paris'},\n",
       " {'role': 'user', 'content': '2024 United Kingdom elections'},\n",
       " {'role': 'assistant',\n",
       "  'content': 'Thought: I should look up information about the 2024 United Kingdom elections on Wikipedia to get the latest details.  \\nAction: wikipedia: 2024 United Kingdom elections  \\nPAUSE'},\n",
       " {'role': 'user',\n",
       "  'content': 'Observation: The <span class=\"searchmatch\">2024</span> <span class=\"searchmatch\">United</span> <span class=\"searchmatch\">Kingdom</span> general <span class=\"searchmatch\">election</span> was held on Thursday, 4 July <span class=\"searchmatch\">2024</span>, to elect 650 members of Parliament to the House of Commons, the lower house'},\n",
       " {'role': 'assistant',\n",
       "  'content': 'Answer: The 2024 United Kingdom general election was held on Thursday, 4 July 2024, to elect 650 members of Parliament to the House of Commons.'}]"
      ]
     },
     "execution_count": 49,
     "metadata": {},
     "output_type": "execute_result"
    }
   ],
   "source": [
    "abot.messages"
   ]
  },
  {
   "cell_type": "markdown",
   "id": "e0f335c5-f909-42ee-84aa-8d721b0dc5b3",
   "metadata": {},
   "source": [
    "## Automating the Agent "
   ]
  },
  {
   "cell_type": "code",
   "execution_count": 51,
   "id": "993f7912-64f3-43bb-a2a8-00d45a7ed371",
   "metadata": {},
   "outputs": [],
   "source": [
    "# defining a regex for finding the action string\n",
    "action_re = re.compile(r'^Action: (\\w+): (.*)$')  # python regular expression to select Action:"
   ]
  },
  {
   "cell_type": "code",
   "execution_count": 52,
   "id": "20b90e6c-5619-4a55-8d41-5891c55f3da4",
   "metadata": {},
   "outputs": [],
   "source": [
    "def query(question, max_turns=5):\n",
    "    i = 0\n",
    "    bot = Agent(prompt)\n",
    "    next_prompt = question\n",
    "    while i < max_turns:\n",
    "        i += 1\n",
    "        result = bot(next_prompt)\n",
    "        print(result)\n",
    "\n",
    "         # using the regex to parse the response from the agent.\n",
    "        actions = [ # This is a list comprehension\n",
    "            action_re.match(a) for a in result.split('\\n') if action_re.match(a)\n",
    "        ]\n",
    "\n",
    "        if actions:\n",
    "            action, action_input = actions[0].groups() \n",
    "\n",
    "            if action not in known_actions:\n",
    "                raise Exception(f'Unknown action: {action}: {action_input}')\n",
    "\n",
    "            print(f' -- running {action} {action_input}')\n",
    "            observation = known_actions[action](action_input) \n",
    "           \n",
    "            print(f'Observation: {observation}')\n",
    "            next_prompt = f'Observation: {observation}'\n",
    "        else:\n",
    "            return\n",
    "        "
   ]
  },
  {
   "cell_type": "code",
   "execution_count": 53,
   "id": "2514a7bd-4ae8-4d7b-83c1-3cc64635eebb",
   "metadata": {},
   "outputs": [
    {
     "name": "stdout",
     "output_type": "stream",
     "text": [
      "Thought: I need to find the cost of both a book and a pen to calculate the total cost for 2 books and 3 pens. I will first look up the cost of a book and then the cost of a pen. \n",
      "\n",
      "Action: get_cost: book\n",
      "PAUSE\n",
      " -- running get_cost book\n",
      "Observation: A book costs $20\n",
      "Thought: Now I need to find the cost of a pen to complete the calculation for the total cost. \n",
      "\n",
      "Action: get_cost: pen\n",
      "PAUSE\n",
      " -- running get_cost pen\n",
      "Observation: A pen costs $5\n",
      "Thought: I have the costs now: a book costs $20 and a pen costs $5. I will calculate the total cost for 2 books and 3 pens. \n",
      "\n",
      "Action: calculate: 2 * 20 + 3 * 5\n",
      "PAUSE\n",
      " -- running calculate 2 * 20 + 3 * 5\n",
      "Observation: 55\n",
      "Answer: You have to pay $55 for 2 books and 3 pens.\n"
     ]
    }
   ],
   "source": [
    "question = '''I want to buy 2 books and 3 pens. How much do I have to pay?'''\n",
    "query(question)"
   ]
  },
  {
   "cell_type": "code",
   "execution_count": 54,
   "id": "b1bf356f-76bc-4e04-96f0-36eba187bdbd",
   "metadata": {},
   "outputs": [
    {
     "name": "stdout",
     "output_type": "stream",
     "text": [
      "Thought: I should look up UEFA EURO 2024 on Wikipedia to gather information about the event.  \n",
      "Action: wikipedia: UEFA EURO 2024  \n",
      "PAUSE\n",
      " -- running wikipedia UEFA EURO 2024  \n",
      "Observation: <span class=\"searchmatch\">2024</span> <span class=\"searchmatch\">UEFA</span> European Football Championship, commonly referred to as <span class=\"searchmatch\">UEFA</span> <span class=\"searchmatch\">Euro</span> <span class=\"searchmatch\">2024</span> (stylised as <span class=\"searchmatch\">UEFA</span> <span class=\"searchmatch\">EURO</span> <span class=\"searchmatch\">2024</span>) or simply <span class=\"searchmatch\">Euro</span> <span class=\"searchmatch\">2024</span>, was the 17th <span class=\"searchmatch\">UEFA</span> European\n",
      "Answer: UEFA EURO 2024 is the 17th UEFA European Football Championship.\n"
     ]
    }
   ],
   "source": [
    "question = '''UEFA EURO 2024'''\n",
    "query(question)"
   ]
  },
  {
   "cell_type": "code",
   "execution_count": null,
   "id": "63dbd9e0-27a9-49df-bf67-0abe400756db",
   "metadata": {},
   "outputs": [],
   "source": []
  }
 ],
 "metadata": {
  "kernelspec": {
   "display_name": "Python 3 (ipykernel)",
   "language": "python",
   "name": "python3"
  },
  "language_info": {
   "codemirror_mode": {
    "name": "ipython",
    "version": 3
   },
   "file_extension": ".py",
   "mimetype": "text/x-python",
   "name": "python",
   "nbconvert_exporter": "python",
   "pygments_lexer": "ipython3",
   "version": "3.11.9"
  },
  "widgets": {
   "application/vnd.jupyter.widget-state+json": {
    "state": {},
    "version_major": 2,
    "version_minor": 0
   }
  }
 },
 "nbformat": 4,
 "nbformat_minor": 5
}
